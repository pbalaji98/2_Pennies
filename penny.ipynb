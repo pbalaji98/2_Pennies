{
 "cells": [
  {
   "cell_type": "code",
   "execution_count": 1,
   "id": "bd7663a4",
   "metadata": {
    "ExecuteTime": {
     "end_time": "2022-04-09T19:53:18.072633Z",
     "start_time": "2022-04-09T19:53:16.101308Z"
    }
   },
   "outputs": [],
   "source": [
    "import numpy as np\n",
    "from qiskit import *\n",
    "import matplotlib.pyplot as plt"
   ]
  },
  {
   "cell_type": "markdown",
   "id": "fcdd736d",
   "metadata": {
    "heading_collapsed": true
   },
   "source": [
    "# Initial state"
   ]
  },
  {
   "cell_type": "code",
   "execution_count": 18,
   "id": "a5b19394",
   "metadata": {
    "ExecuteTime": {
     "end_time": "2022-04-09T20:16:51.834640Z",
     "start_time": "2022-04-09T20:16:51.819015Z"
    },
    "hidden": true
   },
   "outputs": [],
   "source": [
    "### statevector simulation #####\n",
    "circ = QuantumCircuit(2)\n",
    "circ.h(0)\n",
    "circ.h(1)\n",
    "circ.save_statevector()\n",
    "\n",
    "# Transpile for simulator\n",
    "simulator = Aer.get_backend('aer_simulator')\n",
    "circ = transpile(circ, simulator)\n",
    "\n",
    "# Run and get statevector\n",
    "result = simulator.run(circ).result()\n",
    "statevector = result.get_statevector(circ)"
   ]
  },
  {
   "cell_type": "code",
   "execution_count": 19,
   "id": "e27ab6f0",
   "metadata": {
    "ExecuteTime": {
     "end_time": "2022-04-09T20:16:57.035701Z",
     "start_time": "2022-04-09T20:16:57.020741Z"
    },
    "hidden": true
   },
   "outputs": [
    {
     "data": {
      "text/plain": [
       "array([0.5+0.j, 0.5+0.j, 0.5+0.j, 0.5+0.j])"
      ]
     },
     "execution_count": 19,
     "metadata": {},
     "output_type": "execute_result"
    }
   ],
   "source": [
    "statevector"
   ]
  },
  {
   "cell_type": "code",
   "execution_count": 20,
   "id": "14781d59",
   "metadata": {
    "ExecuteTime": {
     "end_time": "2022-04-09T20:17:03.827865Z",
     "start_time": "2022-04-09T20:17:03.620292Z"
    },
    "hidden": true
   },
   "outputs": [
    {
     "data": {
      "text/plain": [
       "(array([1., 0., 0., 1., 0., 0., 1., 0., 0., 1.]),\n",
       " array([0. , 0.3, 0.6, 0.9, 1.2, 1.5, 1.8, 2.1, 2.4, 2.7, 3. ]),\n",
       " <BarContainer object of 10 artists>)"
      ]
     },
     "execution_count": 20,
     "metadata": {},
     "output_type": "execute_result"
    },
    {
     "data": {
      "image/png": "[encoded data removed]",
      "text/plain": [
       "<Figure size 432x288 with 1 Axes>"
      ]
     },
     "metadata": {
      "needs_background": "light"
     },
     "output_type": "display_data"
    }
   ],
   "source": [
    "### measurement simulation #####\n",
    "circ = QuantumCircuit(2)\n",
    "circ.h(0)\n",
    "circ.h(1)\n",
    "circ.measure_all()\n",
    "\n",
    "# Transpile for simulator\n",
    "simulator = Aer.get_backend('aer_simulator')\n",
    "circ = transpile(circ, simulator)\n",
    "\n",
    "# Run and get statevector\n",
    "result = simulator.run(circ).result()\n",
    "counts = result.get_counts(circ)\n",
    "plt.hist(counts)"
   ]
  },
  {
   "cell_type": "markdown",
   "id": "0f9d3820",
   "metadata": {
    "heading_collapsed": true
   },
   "source": [
    "# Grover iterate"
   ]
  },
  {
   "cell_type": "code",
   "execution_count": null,
   "id": "7d9393b3",
   "metadata": {
    "hidden": true
   },
   "outputs": [],
   "source": [
    "def find_oracle(state_to_amplify): \n",
    "    "
   ]
  },
  {
   "cell_type": "code",
   "execution_count": 3,
   "id": "2277a7ed",
   "metadata": {
    "ExecuteTime": {
     "end_time": "2022-04-09T19:40:09.869955Z",
     "start_time": "2022-04-09T19:40:09.852468Z"
    },
    "hidden": true
   },
   "outputs": [],
   "source": [
    "# note cur_state is a circuit\n",
    "# state_to_amplify is an integer between 0 and 3 representing one of the basis states\n",
    "def grover_iterate(cur_state, state_to_amplify): \n",
    "    oracle = find_oracle(state_to_amplify)\n",
    "    preparation = cur_state.gates()\n",
    "    projection = matrix_to_gate([[1,0,0,0],[0,-1,0,0],[0,0,-1,0],[0,0,0,-1]])\n",
    "    \n",
    "    cur_state.append(oracle)\n",
    "    cur_state.append(preparation)\n",
    "    cur_state.append(projection)\n",
    "    cur_state.append(preparation.inverse())\n",
    "    \n",
    "    return cur_state   "
   ]
  },
  {
   "cell_type": "markdown",
   "id": "585b0a26",
   "metadata": {
    "ExecuteTime": {
     "end_time": "2022-04-09T20:12:32.571446Z",
     "start_time": "2022-04-09T20:12:32.554494Z"
    }
   },
   "source": [
    "# Gate sets for player"
   ]
  },
  {
   "cell_type": "code",
   "execution_count": null,
   "id": "60387a84",
   "metadata": {},
   "outputs": [],
   "source": []
  }
 ],
 "metadata": {
  "kernelspec": {
   "display_name": "Python [conda env:snowflakes] *",
   "language": "python",
   "name": "conda-env-snowflakes-py"
  },
  "language_info": {
   "codemirror_mode": {
    "name": "ipython",
    "version": 3
   },
   "file_extension": ".py",
   "mimetype": "text/x-python",
   "name": "python",
   "nbconvert_exporter": "python",
   "pygments_lexer": "ipython3",
   "version": "3.9.4"
  },
  "toc": {
   "base_numbering": 1,
   "nav_menu": {},
   "number_sections": true,
   "sideBar": true,
   "skip_h1_title": false,
   "title_cell": "Table of Contents",
   "title_sidebar": "Contents",
   "toc_cell": false,
   "toc_position": {},
   "toc_section_display": true,
   "toc_window_display": false
  }
 },
 "nbformat": 4,
 "nbformat_minor": 5
}
